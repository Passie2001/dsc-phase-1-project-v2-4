{
 "cells": [
  {
   "cell_type": "markdown",
   "metadata": {},
   "source": [
    "## Final Project Submission\n",
    "\n",
    "## Final Project Submission\n",
    "\n",
    "\n",
    "* #### __Student name:__ Pascalia Maiga\n",
    "* #### __Student pace: Full time__\n",
    "* #### __Scheduled project review date/time: N/A\n",
    "* #### __Instructor name: Maryann Mwikali\n",
    "* #### __Blog post URL:N/A\n",
    "\n"
   ]
  },
  {
   "cell_type": "markdown",
   "metadata": {},
   "source": [
    "1. Introduction"
   ]
  },
  {
   "cell_type": "markdown",
   "metadata": {},
   "source": [
    "## 1.1 Overview\n",
    "This project is purposely for coming up with insights to assist Microsoft on how to start and be proficient in the movie business. For us to come up with this insights we will be required to use exploratory data which will assist us on choosing what type of films should be created by Microsoft."
   ]
  },
  {
   "cell_type": "markdown",
   "metadata": {},
   "source": [
    " ## 1.2 Objectives"
   ]
  },
  {
   "cell_type": "markdown",
   "metadata": {},
   "source": [
    "### 1.2.1 General objectives\n",
    "To choose which kind of films should be produced by Microsoft through deeper research and assessment on the kind of films that are currently excelling at the box office."
   ]
  },
  {
   "cell_type": "markdown",
   "metadata": {},
   "source": [
    "### 1.2.2 Other objectives"
   ]
  },
  {
   "cell_type": "markdown",
   "metadata": {},
   "source": [
    "i. Loading datasets into pandas <br>\n",
    "ii. Retrieving data from a DataFrame <br>\n",
    "iii. Data preparation annd cleaning <br>\n",
    "iv. Exploratory analysis <br>\n",
    "v. Data visualization <br>"
   ]
  },
  {
   "cell_type": "markdown",
   "metadata": {},
   "source": [
    "To load the data use:\n",
    "- movies_gross = pd.read_csv('zippedData/bom.movie_gross.csv') <br>\n",
    "- conn = sqlite3.connect('zippedData/im.db') <br>\n",
    "- movie_info = pd.read_csv('zippedData/rt.movie_info.tsv', delimiter ='\\t', encoding='unicode_escape' )\n",
    "- movies_budget = pd.read_csv('zippedData/tn.movie_budget.csv') <br>\n",
    "- reviews = pd.read_csv('zippedData/rt.reviews.tsv', delimiter='\\t',encoding='unicode_escape') <br>\n",
    "- tmd = pd.read_csv('zippedData/tmdb.movies.csv',index_col=0) <br>"
   ]
  },
  {
   "cell_type": "markdown",
   "metadata": {},
   "source": [
    "## 2.3 Exploring the datasets\n",
    "\n",
    "### 2.3.1 The Numbers dataset\n",
    "The Numbers dataset informs us about budget and returns. <br>\n"
   ]
  },
  {
   "cell_type": "code",
   "execution_count": null,
   "metadata": {},
   "outputs": [
    {
     "ename": "",
     "evalue": "",
     "output_type": "error",
     "traceback": [
      "\u001b[1;31mFailed to start the Kernel. \n",
      "\u001b[1;31mUnable to start Kernel 'base (Python 3.11.5)' due to a connection timeout. \n",
      "\u001b[1;31mView Jupyter <a href='command:jupyter.viewOutput'>log</a> for further details."
     ]
    }
   ],
   "source": [
    "import pandas as pd"
   ]
  },
  {
   "cell_type": "code",
   "execution_count": 2,
   "metadata": {},
   "outputs": [
    {
     "ename": "NameError",
     "evalue": "name 'pd' is not defined",
     "output_type": "error",
     "traceback": [
      "\u001b[1;31m---------------------------------------------------------------------------\u001b[0m",
      "\u001b[1;31mNameError\u001b[0m                                 Traceback (most recent call last)",
      "Cell \u001b[1;32mIn[2], line 2\u001b[0m\n\u001b[0;32m      1\u001b[0m \u001b[38;5;66;03m#Load the data from tn.movie_budgets.csv into a dataframe\u001b[39;00m\n\u001b[1;32m----> 2\u001b[0m movies_budget \u001b[38;5;241m=\u001b[39m \u001b[43mpd\u001b[49m\u001b[38;5;241m.\u001b[39mread_csv(\u001b[38;5;124m'\u001b[39m\u001b[38;5;124mzippedData/tn.movie_budgets.csv\u001b[39m\u001b[38;5;124m'\u001b[39m)\n\u001b[0;32m      4\u001b[0m \u001b[38;5;66;03m#Cast to numeric data type\u001b[39;00m\n\u001b[0;32m      5\u001b[0m movies_budget[\u001b[38;5;124m'\u001b[39m\u001b[38;5;124mproduction_budget\u001b[39m\u001b[38;5;124m'\u001b[39m] \u001b[38;5;241m=\u001b[39m movies_budget[\u001b[38;5;124m'\u001b[39m\u001b[38;5;124mproduction_budget\u001b[39m\u001b[38;5;124m'\u001b[39m]\u001b[38;5;241m.\u001b[39mreplace(\u001b[38;5;124m'\u001b[39m\u001b[38;5;124m[^.0-9]\u001b[39m\u001b[38;5;124m'\u001b[39m, \u001b[38;5;124m'\u001b[39m\u001b[38;5;124m'\u001b[39m, regex\u001b[38;5;241m=\u001b[39m\u001b[38;5;28;01mTrue\u001b[39;00m)\u001b[38;5;241m.\u001b[39mastype(\u001b[38;5;124m'\u001b[39m\u001b[38;5;124mfloat32\u001b[39m\u001b[38;5;124m'\u001b[39m)\n",
      "\u001b[1;31mNameError\u001b[0m: name 'pd' is not defined"
     ]
    }
   ],
   "source": [
    "\n",
    "\n",
    "\n",
    "#Load the data from tn.movie_budgets.csv into a dataframe\n",
    "movies_budget = pd.read_csv('zippedData/tn.movie_budgets.csv')\n",
    "\n",
    "#Cast to numeric data type\n",
    "movies_budget['production_budget'] = movies_budget['production_budget'].replace('[^.0-9]', '', regex=True).astype('float32')\n",
    "movies_budget['domestic_gross'] = movies_budget['domestic_gross'].replace('[^.0-9]', '', regex=True).astype('float32')\n",
    "movies_budget['worldwide_gross'] = movies_budget['worldwide_gross'].replace('[^.0-9]', '',regex = True).astype('float64')\n",
    "movies_budget.head(5)"
   ]
  },
  {
   "cell_type": "markdown",
   "metadata": {},
   "source": [
    "The production budget, domestic gross, and worldwide gross are then cast to float type for mathematical manipulation."
   ]
  },
  {
   "cell_type": "code",
   "execution_count": 1,
   "metadata": {},
   "outputs": [
    {
     "ename": "NameError",
     "evalue": "name 'movies_budget' is not defined",
     "output_type": "error",
     "traceback": [
      "\u001b[1;31m---------------------------------------------------------------------------\u001b[0m",
      "\u001b[1;31mNameError\u001b[0m                                 Traceback (most recent call last)",
      "Cell \u001b[1;32mIn[1], line 1\u001b[0m\n\u001b[1;32m----> 1\u001b[0m \u001b[43mmovies_budget\u001b[49m\u001b[38;5;241m.\u001b[39mshape\n",
      "\u001b[1;31mNameError\u001b[0m: name 'movies_budget' is not defined"
     ]
    }
   ],
   "source": [
    "movies_budget.shape"
   ]
  },
  {
   "cell_type": "code",
   "execution_count": null,
   "metadata": {},
   "outputs": [],
   "source": [
    "movies_budget.info()"
   ]
  },
  {
   "cell_type": "code",
   "execution_count": null,
   "metadata": {},
   "outputs": [],
   "source": [
    "movies_budget.isna().sum()"
   ]
  },
  {
   "cell_type": "markdown",
   "metadata": {},
   "source": [
    "The movie budget Data frame has 5,782 rows and 6 columns namely: id,release_date, movie, production_budget, domestic gross and worldwide_gross. The data types are as float,object and int. The are no null values."
   ]
  },
  {
   "cell_type": "markdown",
   "metadata": {},
   "source": [
    "Finding out the movies budget, first we get the international gross by subtracting the domestic gross from the woorldwide gross"
   ]
  },
  {
   "cell_type": "code",
   "execution_count": null,
   "metadata": {},
   "outputs": [],
   "source": [
    "#getting the international gross\n",
    "movies_budget['international_gross'] = movies_budget['worldwide_gross'] - movies_budget['domestic_gross']\n",
    "cols = list(movies_budget.columns)\n",
    "\n",
    "movies_budget.head(10)"
   ]
  },
  {
   "cell_type": "code",
   "execution_count": null,
   "metadata": {},
   "outputs": [],
   "source": [
    "\n",
    "movies_budget.info()"
   ]
  },
  {
   "cell_type": "markdown",
   "metadata": {},
   "source": [
    "#### Filtering the Data\n",
    "Here we will drop the rows without the values for the domestic, international and worldwide gross."
   ]
  },
  {
   "cell_type": "code",
   "execution_count": null,
   "metadata": {},
   "outputs": [],
   "source": [
    "movies_budget.sort_values('worldwide_gross')"
   ]
  },
  {
   "cell_type": "code",
   "execution_count": null,
   "metadata": {},
   "outputs": [],
   "source": [
    "\n",
    "# drop all rows without the gross values\n",
    "movies_budget_drop = movies_budget[(movies_budget['domestic_gross' == 0) & (movies_budget'worldwide_gross' == 0 )]"
   ]
  },
  {
   "cell_type": "code",
   "execution_count": null,
   "metadata": {},
   "outputs": [],
   "source": [
    "\n",
    "\n",
    "movies_budget.drop(movies_budget_drop.index, axis=0, inplace=True)\n",
    "movies_budget.head(5)"
   ]
  },
  {
   "cell_type": "markdown",
   "metadata": {},
   "source": [
    "\n",
    "In order to have relevant budgeting information, filter the years to get only the data from 2011\n"
   ]
  },
  {
   "cell_type": "code",
   "execution_count": null,
   "metadata": {},
   "outputs": [],
   "source": [
    "#convert from object to string\n",
    "movies_budget['year'] = movies_budget['year'].astype(int)\n"
   ]
  },
  {
   "cell_type": "code",
   "execution_count": null,
   "metadata": {},
   "outputs": [],
   "source": []
  },
  {
   "cell_type": "code",
   "execution_count": null,
   "metadata": {},
   "outputs": [],
   "source": [
    "\n",
    "\n",
    "movies_budget.drop(movies_budget_drop.index, axis=0, inplace=True)\n",
    "movies_budget.head(5)"
   ]
  },
  {
   "cell_type": "markdown",
   "metadata": {},
   "source": [
    "In order to have relevant budgeting information, filter the years to get only the data from 2011"
   ]
  },
  {
   "cell_type": "code",
   "execution_count": null,
   "metadata": {},
   "outputs": [],
   "source": [
    "#convert from object to string\n",
    "movies_budget['year'] = movies_budget['year'].astype(int)\n"
   ]
  },
  {
   "cell_type": "code",
   "execution_count": null,
   "metadata": {},
   "outputs": [],
   "source": [
    "#drop rows which are not between the years 2015 and 2022\n",
    "drop_=  movies_budget[(movies_budget['year'] <= 2014)]\n",
    "movies_budget.drop(drop_.index, axis=0, inplace=True)\n",
    "movies_budget.info()"
   ]
  },
  {
   "cell_type": "code",
   "execution_count": null,
   "metadata": {},
   "outputs": [],
   "source": [
    "movies_budget['year'].value_counts()"
   ]
  },
  {
   "cell_type": "code",
   "execution_count": null,
   "metadata": {},
   "outputs": [],
   "source": [
    "movies_budget.describe()"
   ]
  },
  {
   "cell_type": "markdown",
   "metadata": {},
   "source": [
    "We now come up with the percentage profits of the movies derived from the production budget and the world wide gross."
   ]
  },
  {
   "cell_type": "code",
   "execution_count": null,
   "metadata": {},
   "outputs": [],
   "source": [
    "movies_budget['profit/loss'] = (movies_budget['worldwide_gross'] - movies_budget['production_budget'])\n",
    "movies_budget['profit/loss'] = movies_budget['profit/loss'].astype(int)      \n",
    "movies_budget['profit/loss'].tail()"
   ]
  },
  {
   "cell_type": "code",
   "execution_count": null,
   "metadata": {},
   "outputs": [],
   "source": [
    "movies_budget.shape"
   ]
  },
  {
   "cell_type": "markdown",
   "metadata": {},
   "source": [
    "### 2.3.2 Box Office Mojo Dataset"
   ]
  },
  {
   "cell_type": "markdown",
   "metadata": {},
   "source": [
    "The bom dataset gives information on the domestic gross values and the foreign gross."
   ]
  },
  {
   "cell_type": "code",
   "execution_count": null,
   "metadata": {},
   "outputs": [],
   "source": [
    "#previewing the second dataset\n",
    "movies_gross = pd.read_csv('zippedData/bom.movie_gross.csv')\n",
    "movies_gross.tail(10)"
   ]
  },
  {
   "cell_type": "code",
   "execution_count": null,
   "metadata": {},
   "outputs": [],
   "source": [
    "#find out the shape of the dataset\n",
    "movies_gross.shape"
   ]
  },
  {
   "cell_type": "code",
   "execution_count": null,
   "metadata": {},
   "outputs": [],
   "source": [
    "movies_gross['year'].unique()"
   ]
  },
  {
   "cell_type": "code",
   "execution_count": null,
   "metadata": {},
   "outputs": [],
   "source": [
    "\n",
    "\n",
    "movies_budget.drop(movies_budget_drop.index, axis=0, inplace=True)\n",
    "movies_budget.head(5)"
   ]
  },
  {
   "cell_type": "code",
   "execution_count": null,
   "metadata": {},
   "outputs": [],
   "source": [
    "movies_gross.info()"
   ]
  },
  {
   "cell_type": "code",
   "execution_count": null,
   "metadata": {},
   "outputs": [],
   "source": [
    "movies_gross.isna().sum()"
   ]
  },
  {
   "cell_type": "code",
   "execution_count": null,
   "metadata": {},
   "outputs": [],
   "source": [
    "#drop the rows without gross values\n",
    "movies_gross.dropna(subset=['foreign_gross','domestic_gross'], inplace=True)\n",
    "movies_gross.isna().sum()"
   ]
  },
  {
   "cell_type": "markdown",
   "metadata": {},
   "source": [
    "### 2.3.3 TheMovieDB dataset"
   ]
  },
  {
   "cell_type": "markdown",
   "metadata": {},
   "source": [
    "The tmdb.movies dataset gives us information on the popularity of a movie with respect to the language."
   ]
  },
  {
   "cell_type": "code",
   "execution_count": null,
   "metadata": {},
   "outputs": [],
   "source": [
    "tmd = pd.read_csv('zippedData/tmdb.movies.csv',index_col=0)\n",
    "tmd.head(5)"
   ]
  },
  {
   "cell_type": "code",
   "execution_count": null,
   "metadata": {},
   "outputs": [],
   "source": [
    "tmd['original_language'].value_counts().head(5)"
   ]
  },
  {
   "cell_type": "code",
   "execution_count": null,
   "metadata": {},
   "outputs": [],
   "source": [
    "tmd.shape"
   ]
  },
  {
   "cell_type": "code",
   "execution_count": null,
   "metadata": {},
   "outputs": [],
   "source": [
    "tmd.info()"
   ]
  },
  {
   "cell_type": "code",
   "execution_count": null,
   "metadata": {},
   "outputs": [],
   "source": [
    "tmd.duplicated().sum()"
   ]
  },
  {
   "cell_type": "code",
   "execution_count": null,
   "metadata": {},
   "outputs": [],
   "source": [
    "#drop all duplicate rows based on the titles columns\n",
    "tmd = tmd.drop_duplicates(subset = ['title','original_title'], keep = 'first')\n",
    "tmd.info()"
   ]
  },
  {
   "cell_type": "code",
   "execution_count": null,
   "metadata": {},
   "outputs": [],
   "source": [
    "tmd.duplicated().sum()"
   ]
  },
  {
   "cell_type": "markdown",
   "metadata": {},
   "source": [
    "The data has no duplicates "
   ]
  },
  {
   "cell_type": "code",
   "execution_count": null,
   "metadata": {},
   "outputs": [],
   "source": [
    "tmd['popularity'].max()\n"
   ]
  },
  {
   "cell_type": "markdown",
   "metadata": {},
   "source": [
    "### 2.3.4 Rotten tomatoes dataset"
   ]
  },
  {
   "cell_type": "code",
   "execution_count": null,
   "metadata": {},
   "outputs": [],
   "source": [
    "reviews = pd.read_csv('zippedData/rt.reviews.tsv', delimiter='\\t',encoding='unicode_escape')\n",
    "reviews.tail(10)"
   ]
  },
  {
   "cell_type": "code",
   "execution_count": null,
   "metadata": {},
   "outputs": [],
   "source": [
    "reviews.info()"
   ]
  },
  {
   "cell_type": "code",
   "execution_count": null,
   "metadata": {},
   "outputs": [],
   "source": [
    "reviews.isna().sum()"
   ]
  },
  {
   "cell_type": "code",
   "execution_count": null,
   "metadata": {},
   "outputs": [],
   "source": [
    "reviews.duplicated().sum()"
   ]
  },
  {
   "cell_type": "code",
   "execution_count": null,
   "metadata": {},
   "outputs": [],
   "source": [
    "reviews.dropna(axis=0, inplace = True)\n",
    "reviews.head(10)"
   ]
  },
  {
   "cell_type": "markdown",
   "metadata": {},
   "source": [
    "From the reviews dataframe it is impossible to get valid data that can be used to draw conclusion on the ratings and the reviews"
   ]
  },
  {
   "cell_type": "markdown",
   "metadata": {},
   "source": [
    "### 2.3.5 IMDB dataset"
   ]
  },
  {
   "cell_type": "code",
   "execution_count": null,
   "metadata": {},
   "outputs": [],
   "source": [
    "conn = sqlite3.connect('zippedData/im.db')\n",
    "cur = conn.cursor()"
   ]
  },
  {
   "cell_type": "markdown",
   "metadata": {},
   "source": [
    "#### Find the table names in im.db"
   ]
  },
  {
   "cell_type": "code",
   "execution_count": null,
   "metadata": {},
   "outputs": [],
   "source": [
    "cur.execute(\"\"\"SELECT name FROM sqlite_master WHERE type = 'table';\"\"\")\n",
    "# Fetch the result and store it in table_names\n",
    "table_names = cur.fetchall()\n",
    "table_names"
   ]
  },
  {
   "cell_type": "markdown",
   "metadata": {},
   "source": [
    "Im.db has 8 tables. The movie_ratings and movie_basics are more relevant to our study as they will help gain information on the highly rated genres."
   ]
  },
  {
   "cell_type": "code",
   "execution_count": null,
   "metadata": {},
   "outputs": [],
   "source": [
    "moviebasics = pd.read_sql_query(\"\"\"SELECT * \n",
    "FROM movie_basics\n",
    ";\"\"\",conn)\n",
    "\n",
    "moviebasics.tail(10)"
   ]
  },
  {
   "cell_type": "code",
   "execution_count": null,
   "metadata": {},
   "outputs": [],
   "source": [
    "movieratings = pd.read_sql_query(\"\"\"SELECT * \n",
    "FROM movie_ratings\n",
    ";\"\"\",conn)\n",
    "\n",
    "movieratings.tail(10)"
   ]
  },
  {
   "cell_type": "code",
   "execution_count": null,
   "metadata": {},
   "outputs": [],
   "source": [
    "ratings = pd.read_sql_query(\"\"\"\n",
    "SELECT primary_title, movie_id, start_year, runtime_minutes, genres, averagerating, numvotes\n",
    "FROM movie_basics\n",
    "JOIN movie_ratings\n",
    "    USING(movie_id)\n",
    "LIMIT 10\n",
    ";\"\"\", conn)\n",
    "\n",
    "ratings"
   ]
  },
  {
   "cell_type": "code",
   "execution_count": null,
   "metadata": {},
   "outputs": [],
   "source": [
    "movie_akas = pd.read_sql_query(\"\"\"SELECT * \n",
    "FROM movie_akas\n",
    ";\"\"\",conn)\n",
    "\n",
    "movie_akas.tail(10)"
   ]
  },
  {
   "cell_type": "code",
   "execution_count": null,
   "metadata": {},
   "outputs": [],
   "source": [
    "#find the languages \n",
    "movie_akas['language'].unique()\n",
    "movie_akas['language'].value_counts().head(10)"
   ]
  },
  {
   "cell_type": "code",
   "execution_count": null,
   "metadata": {},
   "outputs": [],
   "source": [
    "movie_info.isna().sum()"
   ]
  },
  {
   "cell_type": "code",
   "execution_count": null,
   "metadata": {},
   "outputs": [],
   "source": [
    "movie_info.dropna(inplace = True)"
   ]
  },
  {
   "cell_type": "code",
   "execution_count": null,
   "metadata": {},
   "outputs": [],
   "source": [
    "movie_info.info()"
   ]
  },
  {
   "cell_type": "code",
   "execution_count": null,
   "metadata": {},
   "outputs": [],
   "source": [
    "movie_info.head(10)"
   ]
  },
  {
   "cell_type": "markdown",
   "metadata": {},
   "source": [
    "## 3. Merging Datasets"
   ]
  },
  {
   "cell_type": "code",
   "execution_count": null,
   "metadata": {},
   "outputs": [],
   "source": [
    "#renaming the column for merging\n",
    "\n",
    "movies_gross.rename(columns={'title':'movie'}, inplace=True)\n",
    "tmd.rename(columns={'original_title':'movie'}, inplace=True)\n",
    "moviebasics.rename(columns={'original_title':'movie'},inplace=True)"
   ]
  },
  {
   "cell_type": "code",
   "execution_count": null,
   "metadata": {},
   "outputs": [],
   "source": [
    "#merging the movie_budget dataframe and movie_gross \n",
    "\n",
    "df_budget_and_gross = movies_budget.merge(movies_gross, how = 'inner', on ='movie')"
   ]
  },
  {
   "cell_type": "code",
   "execution_count": null,
   "metadata": {},
   "outputs": [],
   "source": [
    "df_budget_and_gross.shape"
   ]
  },
  {
   "cell_type": "markdown",
   "metadata": {},
   "source": [
    "Merging tmd dataframe with the moviebasics table"
   ]
  },
  {
   "cell_type": "code",
   "execution_count": null,
   "metadata": {},
   "outputs": [],
   "source": [
    "#merge tmd with movie basics to get common languages\n",
    "\n",
    "popularity_ratings_df = tmd.merge(moviebasics, how = 'inner', on ='movie')"
   ]
  },
  {
   "cell_type": "code",
   "execution_count": null,
   "metadata": {},
   "outputs": [],
   "source": [
    "popularity_ratings_df.shape"
   ]
  },
  {
   "cell_type": "code",
   "execution_count": null,
   "metadata": {},
   "outputs": [],
   "source": [
    "final_df = pd.merge(df_budget_and_gross,popularity_ratings_df, how = 'inner', on ='movie')\n",
    "final_df.head(5)"
   ]
  },
  {
   "cell_type": "code",
   "execution_count": null,
   "metadata": {},
   "outputs": [],
   "source": [
    "final_df.shape"
   ]
  },
  {
   "cell_type": "code",
   "execution_count": null,
   "metadata": {},
   "outputs": [],
   "source": [
    "#finding the column names\n",
    "list(final_df.columns)"
   ]
  },
  {
   "cell_type": "code",
   "execution_count": null,
   "metadata": {},
   "outputs": [],
   "source": [
    "# dropping the unnecessary columns\n",
    "\n",
    "final_df.drop(columns=['id_x', 'release_date_x', 'domestic_gross_x','year_x','domestic_gross_y', 'year_y', 'genre_ids', 'id_y', 'release_date_y','movie_id','primary_title','start_year'],inplace= True)\n",
    "final_df.head(5)"
   ]
  },
  {
   "cell_type": "code",
   "execution_count": null,
   "metadata": {},
   "outputs": [],
   "source": [
    "#lets view the last 10 columns\n",
    "\n",
    "final_df.tail(10)"
   ]
  },
  {
   "cell_type": "markdown",
   "metadata": {},
   "source": [
    "The common language is English so we can drop that column"
   ]
  },
  {
   "cell_type": "code",
   "execution_count": null,
   "metadata": {},
   "outputs": [],
   "source": [
    "final_df.drop(columns=['title','original_language'],inplace=True)\n",
    "final_df.head(5)"
   ]
  },
  {
   "cell_type": "code",
   "execution_count": null,
   "metadata": {},
   "outputs": [],
   "source": [
    "final_df.nunique()"
   ]
  },
  {
   "cell_type": "code",
   "execution_count": null,
   "metadata": {},
   "outputs": [],
   "source": [
    "# checking for null values\n",
    "\n",
    "final_df.isna().sum()"
   ]
  },
  {
   "cell_type": "code",
   "execution_count": null,
   "metadata": {},
   "outputs": [],
   "source": [
    "# checking for duplicates\n",
    "\n",
    "final_df.duplicated(['movie']).sum()"
   ]
  },
  {
   "cell_type": "code",
   "execution_count": null,
   "metadata": {},
   "outputs": [],
   "source": [
    "final_df.drop_duplicates(subset= ['movie'] ,inplace=True)\n",
    "final_df.shape"
   ]
  },
  {
   "cell_type": "code",
   "execution_count": null,
   "metadata": {},
   "outputs": [],
   "source": [
    "final_df.isna().sum()"
   ]
  },
  {
   "cell_type": "markdown",
   "metadata": {},
   "source": [
    "Drop the two rows with null values in the genres column."
   ]
  },
  {
   "cell_type": "code",
   "execution_count": null,
   "metadata": {},
   "outputs": [],
   "source": [
    "final_df.dropna(subset = ['genres'],inplace=True)\n",
    "final_df.isna().sum()"
   ]
  },
  {
   "cell_type": "code",
   "execution_count": null,
   "metadata": {},
   "outputs": [],
   "source": [
    "# Exporting this combined dataframe to a csv\n",
    "\n",
    "final_df.to_csv('Cleaned Microsoft Data.csv')"
   ]
  },
  {
   "cell_type": "markdown",
   "metadata": {},
   "source": [
    "# 4. Exploratory Data Analysis (EDA)"
   ]
  },
  {
   "cell_type": "markdown",
   "metadata": {},
   "source": [
    "### 4.1 What are the popular genres in the box office?"
   ]
  },
  {
   "cell_type": "code",
   "execution_count": null,
   "metadata": {},
   "outputs": [],
   "source": [
    "popular = final_df.sort_values('popularity', ascending = False)"
   ]
  },
  {
   "cell_type": "code",
   "execution_count": null,
   "metadata": {},
   "outputs": [],
   "source": [
    "# accessing the individual genre element per row\n",
    "\n",
    "top_genres = [genre.split(',') for genre in popular['genres']]\n",
    "\n",
    "top_genres"
   ]
  },
  {
   "cell_type": "code",
   "execution_count": null,
   "metadata": {},
   "outputs": [],
   "source": [
    "# accessing all genre elements in the rows\n",
    "\n",
    "top_genres_list = [genre_ for element in top_genres  for genre_ in element]\n",
    "\n",
    "top_genres_list   "
   ]
  },
  {
   "cell_type": "code",
   "execution_count": null,
   "metadata": {},
   "outputs": [],
   "source": [
    "# get the unique genres\n",
    "\n",
    "unique_genres = []\n",
    "\n",
    "for genre_ in top_genres_list:\n",
    "    if genre_ not in unique_genres:\n",
    "        unique_genres.append(genre_)"
   ]
  },
  {
   "cell_type": "code",
   "execution_count": null,
   "metadata": {},
   "outputs": [],
   "source": [
    "# count the number of times the unique genre appeared.\n",
    "#import Counter\n",
    "from collections import Counter\n",
    "\n",
    "count_1 = Counter(top_genres_list)\n",
    "count_1"
   ]
  },
  {
   "cell_type": "code",
   "execution_count": null,
   "metadata": {},
   "outputs": [],
   "source": [
    "# separating the genres and the count\n",
    "\n",
    "genre = []\n",
    "count = []\n",
    "\n",
    "for key, values in count_1.items():\n",
    "    genre.append(key)\n",
    " "
   ]
  },
  {
   "cell_type": "code",
   "execution_count": null,
   "metadata": {},
   "outputs": [],
   "source": [
    "# plotting the data above\n",
    "\n",
    "\n",
    "fig, ax = plt.subplots(figsize=(12,10))\n",
    "\n",
    "x = genre\n",
    "y = count\n",
    "\n",
    "ax = sns.barplot(x = x, y = y, ax = ax)\n",
    "\n",
    "ax.set_title('Genre Vs Population', fontsize=16)\n",
    "ax.set_xlabel(\"Movie Genre\",fontsize=14)\n",
    "ax.set_ylabel(\"Count\", fontsize=14);\n",
    "\n",
    "ax.set_xticklabels(labels = x, rotation = 75)\n",
    "fig.savefig('Genres Vs Population.png');"
   ]
  },
  {
   "cell_type": "markdown",
   "metadata": {},
   "source": [
    "From the bar graph,we can say that Drama is the most popular Genre in the movie industry as it has the tallest bar."
   ]
  },
  {
   "cell_type": "code",
   "execution_count": null,
   "metadata": {},
   "outputs": [],
   "source": [
    "# sorting to find the popular movies per vote_average\n",
    "\n",
    "movie_ratings = final_df.sort_values(by = ['popularity', 'vote_average'],ascending=(False, False)).head(10)\n",
    "movie_ratings = movie_ratings.sort_values('vote_average',ascending=False).reset_index(drop=True)"
   ]
  },
  {
   "cell_type": "code",
   "execution_count": null,
   "metadata": {},
   "outputs": [],
   "source": [
    "# sorting to find the popular movies per vote_average\n",
    "\n",
    "movie_ratings = final_df.sort_values(by = ['popularity', 'vote_average'],ascending=(False, False)).head(10)\n",
    "movie_ratings = movie_ratings.sort_values('vote_average',ascending=False).reset_index(drop=True)"
   ]
  },
  {
   "cell_type": "code",
   "execution_count": null,
   "metadata": {},
   "outputs": [],
   "source": [
    "final_df['studio'].unique()"
   ]
  },
  {
   "cell_type": "markdown",
   "metadata": {},
   "source": [
    "### 4.2 What are the most popular studios with high world-wide gross?"
   ]
  },
  {
   "cell_type": "code",
   "execution_count": null,
   "metadata": {},
   "outputs": [],
   "source": [
    "# sorting values to find movies with the highest grossing\n",
    "\n",
    "highest_gross = final_df.sort_values('worldwide_gross', ascending = False).head(10)\n",
    "highest_gross.reset_index(drop=True)"
   ]
  },
  {
   "cell_type": "code",
   "execution_count": null,
   "metadata": {},
   "outputs": [],
   "source": [
    "# movies with the highest gross\n",
    "\n",
    "highest_gross.loc[:,['movie','worldwide_gross']]"
   ]
  },
  {
   "cell_type": "code",
   "execution_count": null,
   "metadata": {},
   "outputs": [],
   "source": [
    "import matplotlib.ticker as mticker"
   ]
  },
  {
   "cell_type": "code",
   "execution_count": null,
   "metadata": {},
   "outputs": [],
   "source": [
    "# plotting the data above\n",
    "\n",
    "fig, ax1= plt.subplots(figsize=(20,12))\n",
    "\n",
    "x = list(movie_ratings['movie'].values)\n",
    "y = movie_ratings['vote_average']\n",
    "\n",
    "ax1 = sns.barplot(data = movie_ratings, x = 'movie', y = 'vote_average', hue = 'studio', ax = ax1, dodge=False)\n",
    "\n",
    "ax1.set_title('Movies Vs Ratings', fontsize=20)\n",
    "ax1.set_xlabel(\"Movie Titles\",fontsize=18)\n",
    "ax1.set_ylabel(\"Movie Ratings\", fontsize=18)\n",
    "ax1.legend(title='Studios', fontsize=18, loc=1)\n",
    "ax1.set_xticklabels(labels = x, rotation = 60,fontsize=14)\n",
    "ax1.set_yticklabels(labels = y,fontsize=14)\n",
    "\n",
    "ax1.set_xticklabels(labels = x, rotation = 45)\n",
    "ax1.set_ylim(4.5, 8.5)\n",
    "fig.savefig('Movies Vs Ratings per studio.png')"
   ]
  },
  {
   "cell_type": "markdown",
   "metadata": {},
   "source": [
    "From the bar graph we can see that BV studios has highly rated movies, with the top two movies being Avengers and Thor."
   ]
  },
  {
   "cell_type": "code",
   "execution_count": null,
   "metadata": {},
   "outputs": [],
   "source": [
    "\n",
    "fig, ax2= plt.subplots(figsize=(20,12))\n",
    "ax2 = sns.barplot(data = highest_gross, x = 'movie', y = 'worldwide_gross',hue = 'studio', ax = ax2, dodge=False)\n",
    "\n",
    "labels = list(highest_gross['movie'])\n",
    "ax2.set_title('Movies Vs Gross', fontsize=20)\n",
    "ax2.set_xlabel(\"Movie Titles\",fontsize=18)\n",
    "ax2.set_ylabel(\"Movie Gross \", fontsize=18)\n",
    "ax2.set_ylim(1000)\n",
    "\n",
    "ax2.set_xticklabels(labels = labels, rotation = 75,fontsize=14)\n",
    "ax2.set_yticklabels(labels = y,fontsize=14)\n",
    "\n",
    "fig.savefig('Movies Vs Worldwide gross.png');"
   ]
  },
  {
   "cell_type": "markdown",
   "metadata": {},
   "source": [
    "### 4.3 Does popularity affect the worldwide gross?"
   ]
  },
  {
   "cell_type": "code",
   "execution_count": null,
   "metadata": {},
   "outputs": [],
   "source": [
    "# plotting a scatterplot\n",
    "\n",
    "fig, ax= plt.subplots(figsize=(8,6))\n",
    "\n",
    "x = final_df['popularity']\n",
    "y = final_df['worldwide_gross']\n",
    "\n",
    "ax.scatter(x,y)\n",
    "\n",
    "ax.set_title('Popularity vs World-wide gross', fontsize=16)\n",
    "ax.set_xlabel(\"Popularity\",fontsize=14)\n",
    "ax.set_ylabel(\"Worldwide Gross \", fontsize=14)\n",
    "fig.savefig('Popularity vs Worldwide gross.png');"
   ]
  },
  {
   "cell_type": "markdown",
   "metadata": {},
   "source": [
    "### 4.4 Does budget affect revenue?"
   ]
  },
  {
   "cell_type": "code",
   "execution_count": null,
   "metadata": {},
   "outputs": [],
   "source": [
    "# plotting a scatterplot\n",
    "\n",
    "fig, ax= plt.subplots(figsize=(10,8))\n",
    "\n",
    "x = final_df['production_budget']\n",
    "y = final_df['profit/loss']\n",
    "\n",
    "ax.scatter(x,y)\n",
    "\n",
    "ax.set_title('Profits vs Production Budget', fontsize=16)\n",
    "ax.set_xlabel(\"Budget\",fontsize=14)\n",
    "ax.set_ylabel(\"Profits \", fontsize=14)\n",
    "fig.savefig('Budget vs Revenue.png');"
   ]
  },
  {
   "cell_type": "markdown",
   "metadata": {},
   "source": [
    "### 4.5 Does rating affect revenue?"
   ]
  },
  {
   "cell_type": "code",
   "execution_count": null,
   "metadata": {},
   "outputs": [],
   "source": [
    "# plotting a scatterplot\n",
    "\n",
    "fig, ax= plt.subplots(figsize=(8,6))\n",
    "\n",
    "x = final_df['worldwide_gross']\n",
    "y = final_df['vote_average']\n",
    "\n",
    "ax.scatter(x,y)\n",
    "\n",
    "ax.set_title('Ratings Vs Revenue', fontsize=16)\n",
    "ax.set_ylabel(\"Ratings\",fontsize=14)\n",
    "ax.set_xlabel(\"Worldwide Gross (10^9)\", fontsize=14)\n",
    "fig.savefig('Ratings vs Revenue.png');"
   ]
  },
  {
   "cell_type": "markdown",
   "metadata": {},
   "source": [
    "### 4.6 Does popularity affect the rating?"
   ]
  },
  {
   "cell_type": "code",
   "execution_count": null,
   "metadata": {},
   "outputs": [],
   "source": [
    "# plotting a scatterplot\n",
    "\n",
    "fig, ax= plt.subplots(figsize=(8,6))\n",
    "\n",
    "x = final_df['vote_average']\n",
    "y = final_df['popularity']\n",
    "\n",
    "ax.scatter(x,y)\n",
    "\n",
    "ax.set_title('Ratings Vs Popularity', fontsize=16)\n",
    "ax.set_xlabel(\"Ratings\",fontsize=14)\n",
    "ax.set_ylabel(\"Popularity\", fontsize=14)\n",
    "fig.savefig('Ratings vs Popularity.png');"
   ]
  },
  {
   "cell_type": "code",
   "execution_count": null,
   "metadata": {},
   "outputs": [],
   "source": [
    "### 4.7 Does the runtime minutes affect the ratings?"
   ]
  },
  {
   "cell_type": "code",
   "execution_count": null,
   "metadata": {},
   "outputs": [],
   "source": [
    "# plotting a scatterplot\n",
    "\n",
    "fig, ax= plt.subplots(figsize=(8,6))\n",
    "\n",
    "x = final_df['runtime_minutes']\n",
    "y = final_df['vote_average']\n",
    "\n",
    "ax.scatter(x,y)\n",
    "\n",
    "ax.set_title('Ratings Vs Runtime', fontsize=16)\n",
    "ax.set_ylabel(\"Ratings\",fontsize=14)\n",
    "ax.set_xlabel(\"Runtime minutes\", fontsize=14)\n",
    "fig.savefig('Ratings vs Runtime.png');"
   ]
  },
  {
   "cell_type": "markdown",
   "metadata": {},
   "source": [
    "### 4.8 Does runtime minutes affect the popularity?"
   ]
  },
  {
   "cell_type": "code",
   "execution_count": null,
   "metadata": {},
   "outputs": [],
   "source": [
    "# plotting a scatterplot\n",
    "\n",
    "fig, ax= plt.subplots(figsize=(8,6))\n",
    "\n",
    "x= final_df['runtime_minutes'] \n",
    "y= final_df['popularity']\n",
    "\n",
    "\n",
    "ax.scatter(x,y)\n",
    "\n",
    "ax.set_title('Popularity Vs Runtime', fontsize=16)\n",
    "ax.set_ylabel(\"Popularity\",fontsize=14)\n",
    "ax.set_xlabel(\"Runtime minutes\", fontsize=14)\n",
    "fig.savefig('Popularity vs Runtime.png');"
   ]
  }
 ],
 "metadata": {
  "kernelspec": {
   "display_name": "Python 3",
   "language": "python",
   "name": "python3"
  },
  "language_info": {
   "codemirror_mode": {
    "name": "ipython",
    "version": 3
   },
   "file_extension": ".py",
   "mimetype": "text/x-python",
   "name": "python",
   "nbconvert_exporter": "python",
   "pygments_lexer": "ipython3",
   "version": "3.11.5"
  }
 },
 "nbformat": 4,
 "nbformat_minor": 2
}
